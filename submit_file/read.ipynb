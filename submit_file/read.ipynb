{
 "cells": [
  {
   "cell_type": "code",
   "execution_count": 24,
   "id": "942d03a4",
   "metadata": {},
   "outputs": [
    {
     "name": "stdout",
     "output_type": "stream",
     "text": [
      "[  14   28   36   70   86   90   95  104  125  138  168  221  236  250\n",
      "  253  255  283  284  354  392  402  499  593  616  619  671  673  700\n",
      "  706  776  802  806  835  864  877  889  905  933  956 1090 1092 1103\n",
      " 1124 1163 1218 1223 1248 1257 1302 1306 1326 1364 1399 1402 1457 1482\n",
      " 1483 1485 1496 1508 1532 1544 1589 1593 1610 1611 1622 1628 1642 1703\n",
      " 1710 1717 1741 1768 1794 1829 1839 1861 1875 1879 1938 1939 1963 1965\n",
      " 2003 2009 2016 2032 2067 2121 2168 2184 2190 2201 2218 2227 2268 2269\n",
      " 2337 2347]\n"
     ]
    }
   ],
   "source": [
    "# item子集\n",
    "import numpy as np\n",
    "input_dir = \"./concat_all/concat_v4_ruizhi_three/\"\n",
    "np6 = np.load(input_dir + \"client_ids.npy\")\n",
    "print(np6[:100])"
   ]
  },
  {
   "cell_type": "code",
   "execution_count": null,
   "id": "a6e00dd4",
   "metadata": {},
   "outputs": [
    {
     "name": "stdout",
     "output_type": "stream",
     "text": [
      "(1000000, 128)\n"
     ]
    }
   ],
   "source": [
    "# item子集\n",
    "import numpy as np\n",
    "input_dir = \"./exp_128_churn_embedding/\"\n",
    "np7 = np.load(input_dir +  \"embeddings.npy\")\n",
    "print(np7.shape)"
   ]
  },
  {
   "cell_type": "code",
   "execution_count": 6,
   "id": "a48a2d68",
   "metadata": {},
   "outputs": [
    {
     "name": "stdout",
     "output_type": "stream",
     "text": [
      "client_ids 和 embeddings 已按 client_ids 下标从小到大排序，并保存为 sorted_client_ids.npy 和 sorted_embeddings.npy\n"
     ]
    }
   ],
   "source": [
    "# 加载并排序 client_ids 和 embeddings\n",
    "import numpy as np\n",
    "\n",
    "data_dir = \"./exp_128_churn_embedding/\"\n",
    "# 加载数据\n",
    "client_ids = np.load('./exp_128_churn_embedding/client_ids.npy')\n",
    "embeddings = np.load('./exp_128_churn_embedding/embeddings.npy')\n",
    "\n",
    "# 获取 client_ids 的排序索引\n",
    "sorted_indices = np.argsort(client_ids)\n",
    "\n",
    "# 按排序索引重新排列 client_ids 和 embeddings\n",
    "sorted_client_ids = client_ids[sorted_indices]\n",
    "sorted_embeddings = embeddings[sorted_indices]\n",
    "\n",
    "# 保存排序后的数据\n",
    "np.save(data_dir + 'client_ids.npy', sorted_client_ids)\n",
    "np.save(data_dir + 'embeddings.npy', sorted_embeddings)\n",
    "\n",
    "print('client_ids 和 embeddings 已按 client_ids 下标从小到大排序，并保存为 sorted_client_ids.npy 和 sorted_embeddings.npy')"
   ]
  },
  {
   "cell_type": "code",
   "execution_count": 16,
   "id": "90de0578",
   "metadata": {},
   "outputs": [
    {
     "name": "stdout",
     "output_type": "stream",
     "text": [
      "(1000000, 857)\n"
     ]
    }
   ],
   "source": [
    "# item子集\n",
    "import numpy as np\n",
    "input_dir = \"./runzhi_data/\"\n",
    "np7 = np.load(input_dir +  \"embeddings.npy\")\n",
    "\n",
    "input_dir = \"./exp_128_churn_embedding/\"\n",
    "np8 = np.load(input_dir +  \"embeddings.npy\")\n",
    "\n",
    "input_dir = \"./exp_128_product_propensity_embedding/\"\n",
    "np9 = np.load(input_dir +  \"embeddings.npy\")\n",
    "\n",
    "input_dir = \"./exp_128_category_propensity_embedding/\"\n",
    "np10 = np.load(input_dir +  \"embeddings.npy\")\n",
    "\n",
    "combined_emb = np.concatenate((np7, np8, np9, np10), axis=1)\n",
    "\n",
    "save_dir = \"./concat_all/concat_v4_ruizhi_three/\"\n",
    "np.save(save_dir + \"embeddings.npy\", combined_emb)\n",
    "print(combined_emb.shape)\n",
    "                              "
   ]
  },
  {
   "cell_type": "code",
   "execution_count": 2,
   "id": "6268399b",
   "metadata": {},
   "outputs": [
    {
     "name": "stdout",
     "output_type": "stream",
     "text": [
      "(1000000, 651)\n"
     ]
    }
   ],
   "source": [
    "import numpy as np\n",
    "\n",
    "# input_dir = \"./ruizhi_all_data/zrz_bs10win4_refr48_ent3_ewa4_ratio/\"\n",
    "# input_dir = \"./ruizhi_all_data/zrz_bs10win4_refr48_ent3_ewa4_ratio/\"\n",
    "input_dir = \"./concat_all/concat_v3/\"\n",
    "np8 = np.load(input_dir +  \"embeddings.npy\")\n",
    "print(np8.shape)\n",
    "# print(np8[:100])"
   ]
  },
  {
   "cell_type": "code",
   "execution_count": 19,
   "id": "5698a1d0",
   "metadata": {},
   "outputs": [
    {
     "name": "stdout",
     "output_type": "stream",
     "text": [
      "(1000000, 857)\n"
     ]
    }
   ],
   "source": [
    "# item子集\n",
    "import numpy as np\n",
    "input_dir = \"./concat_all/concat_v4_ruizhi_three/\"\n",
    "np7 = np.load(input_dir +  \"embeddings.npy\")\n",
    "print(np7.shape)\n",
    "# print(type(np7))\n",
    "fp16_array = np7.astype(np.float16)\n",
    "# fp16_array = np7\n",
    "np.save(input_dir +  \"embeddings.npy\", fp16_array)\n",
    "\n",
    "\n"
   ]
  }
 ],
 "metadata": {
  "kernelspec": {
   "display_name": "Python 3",
   "language": "python",
   "name": "python3"
  },
  "language_info": {
   "codemirror_mode": {
    "name": "ipython",
    "version": 3
   },
   "file_extension": ".py",
   "mimetype": "text/x-python",
   "name": "python",
   "nbconvert_exporter": "python",
   "pygments_lexer": "ipython3",
   "version": "3.11.0"
  }
 },
 "nbformat": 4,
 "nbformat_minor": 5
}

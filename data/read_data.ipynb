{
 "cells": [
  {
   "cell_type": "code",
   "execution_count": 29,
   "id": "af924e6a",
   "metadata": {},
   "outputs": [
    {
     "name": "stdout",
     "output_type": "stream",
     "text": [
      "   client_id            timestamp      sku\n",
      "0   17649961  2022-07-23 20:15:25    18485\n",
      "1   16696114  2022-07-11 16:31:30    81192\n",
      "2   10238779  2022-05-29 19:35:40   510014\n",
      "3   10238779  2022-05-29 19:38:05   510014\n",
      "4   10238779  2022-05-29 19:38:05   510014\n",
      "5   10238779  2022-06-01 14:34:50   510014\n",
      "6   10238779  2022-06-01 14:34:50   510014\n",
      "7   10238779  2022-10-05 14:41:10  1475246\n",
      "8    6297287  2022-06-14 15:56:05  1070234\n",
      "9   15261535  2022-08-16 15:34:35   363171\n"
     ]
    }
   ],
   "source": [
    "# 购买数据集\n",
    "import pandas as pd\n",
    "\n",
    "file_name1 = \"product_buy.parquet\"\n",
    "properties1 = pd.read_parquet(\"./\" + file_name1)\n",
    "\n",
    "print(properties1.head(10))"
   ]
  },
  {
   "cell_type": "code",
   "execution_count": 30,
   "id": "be7013fa",
   "metadata": {},
   "outputs": [
    {
     "name": "stdout",
     "output_type": "stream",
     "text": [
      "   client_id            timestamp      sku\n",
      "0   17649961  2022-08-11 12:22:55  1398840\n",
      "1     315805  2022-09-11 05:34:10  1434568\n",
      "2     315805  2022-10-06 04:58:15   998226\n",
      "3   16696114  2022-07-11 16:27:00    81192\n",
      "4   10238779  2022-10-05 14:36:55  1475246\n",
      "5   10238779  2022-10-05 14:36:55  1475246\n",
      "6   10238779  2022-10-05 14:38:10  1475246\n",
      "7   10238779  2022-10-05 14:38:10  1475246\n",
      "8   10238779  2022-10-05 14:38:20  1475246\n",
      "9    6297287  2022-06-14 15:52:30  1070234\n"
     ]
    }
   ],
   "source": [
    "# 添加购物车\n",
    "import pandas as pd\n",
    "\n",
    "file_name2 = \"add_to_cart.parquet\"\n",
    "properties2 = pd.read_parquet(\"./\" + file_name2)\n",
    "\n",
    "print(properties2.head(10))"
   ]
  },
  {
   "cell_type": "code",
   "execution_count": 39,
   "id": "dd63e40f",
   "metadata": {},
   "outputs": [
    {
     "name": "stdout",
     "output_type": "stream",
     "text": [
      "    client_id            timestamp      sku\n",
      "0    10238779  2022-10-05 14:37:35  1475246\n",
      "1    10238779  2022-10-05 14:37:40  1475246\n",
      "2    10238779  2022-10-05 14:37:40  1475246\n",
      "3    10238779  2022-10-05 14:37:40  1475246\n",
      "4    17130676  2022-09-13 07:31:35   830819\n",
      "5    23390068  2022-07-03 21:37:25   364528\n",
      "6     6220048  2022-08-03 10:20:50    98227\n",
      "7     7621267  2022-06-16 16:24:35  1455655\n",
      "8    17768645  2022-09-29 02:40:40   114845\n",
      "9    20041561  2022-08-31 09:25:55   967683\n",
      "10   11287081  2022-10-07 14:14:15   179446\n",
      "11   11590800  2022-08-31 11:18:45   669874\n",
      "12   11590800  2022-09-02 18:35:25    88089\n",
      "13    4945136  2022-10-04 17:43:05    98164\n",
      "14    2322751  2022-06-05 16:14:10   935476\n",
      "15   19160733  2022-08-23 18:59:05  1217064\n",
      "16   19160733  2022-08-23 19:00:25   446526\n",
      "17   10706108  2022-08-02 06:20:45   648660\n",
      "18    2236173  2022-06-07 10:56:40    49647\n",
      "19    2236173  2022-06-16 05:41:40  1206331\n"
     ]
    }
   ],
   "source": [
    "# 移除购物车\n",
    "import pandas as pd\n",
    "\n",
    "file_name3 = \"remove_from_cart.parquet\"\n",
    "properties3 = pd.read_parquet(\"./\" + file_name3)\n",
    "\n",
    "print(properties3.head(20))"
   ]
  },
  {
   "cell_type": "code",
   "execution_count": 42,
   "id": "994d24ea",
   "metadata": {},
   "outputs": [
    {
     "name": "stdout",
     "output_type": "stream",
     "text": [
      "   client_id            timestamp       url\n",
      "0   13906876  2022-07-13 10:37:45  12160626\n",
      "1   13906876  2022-08-11 18:13:20   9464384\n",
      "2    7825390  2022-05-26 10:28:05   3876331\n",
      "3   13416433  2022-05-25 18:20:10  15017297\n",
      "4   13416433  2022-06-03 20:03:20  13003066\n",
      "5   13416433  2022-06-03 20:03:45  13003066\n",
      "6   13416433  2022-06-03 20:04:05  13003066\n",
      "7   13416433  2022-06-03 20:05:40   1803741\n",
      "8   13416433  2022-06-03 20:05:55  15114700\n",
      "9   13416433  2022-06-03 20:06:10   1803741\n",
      "(150713186, 3)\n"
     ]
    }
   ],
   "source": [
    "# 网页浏览\n",
    "import pandas as pd\n",
    "\n",
    "file_name4 = \"page_visit.parquet\"\n",
    "properties4 = pd.read_parquet(\"./\" + file_name4)\n",
    "\n",
    "print(properties4.head(10))\n",
    "print(properties4.shape)"
   ]
  },
  {
   "cell_type": "code",
   "execution_count": 44,
   "id": "ff3e0d84",
   "metadata": {},
   "outputs": [
    {
     "name": "stdout",
     "output_type": "stream",
     "text": [
      "   client_id            timestamp  \\\n",
      "0   17649961  2022-08-05 08:59:55   \n",
      "1   17649961  2022-08-05 09:00:59   \n",
      "2   17649961  2022-08-05 09:00:59   \n",
      "3   17649961  2022-08-05 09:30:20   \n",
      "4   17649961  2022-08-05 09:30:20   \n",
      "5   17649961  2022-08-07 20:43:35   \n",
      "6   17649961  2022-08-07 20:44:40   \n",
      "7   17649961  2022-08-07 20:44:40   \n",
      "8   17649961  2022-08-07 20:46:10   \n",
      "9   17649961  2022-08-07 20:46:10   \n",
      "\n",
      "                                               query  \n",
      "0  [ 21  21  13 168 158 204 145 215 145 168  13 1...  \n",
      "1  [ 21  21  13 168 158 204 145 215 145 168  13 1...  \n",
      "2  [ 21  21  13 168 158 204 145 215 145 168  13 1...  \n",
      "3  [ 21  21  13 168 158 204 145 215 145 168  13 1...  \n",
      "4  [ 21  21  13 168 158 204 145 215 145 168  13 1...  \n",
      "5  [ 21  21 118 168 158 204 145 215 145 168 161 1...  \n",
      "6  [ 21  21 118 168 158 204 145 215 145 168 161 1...  \n",
      "7  [ 21  21 118 168 158 204 145 215 145 168 161 1...  \n",
      "8  [ 21  21  13 168 158 204 145 215 145 168  13 1...  \n",
      "9  [ 21  21  13 168 158 204 145 215 145 168  13 1...  \n",
      "(9571258, 3)\n"
     ]
    }
   ],
   "source": [
    "# 查询的相关词\n",
    "import pandas as pd\n",
    "\n",
    "file_name5 = \"search_query.parquet\"\n",
    "properties5 = pd.read_parquet(\"./\" + file_name5)\n",
    "\n",
    "print(properties5.head(10))\n",
    "print(properties5.shape)"
   ]
  },
  {
   "cell_type": "code",
   "execution_count": 2,
   "id": "6079fbdc",
   "metadata": {},
   "outputs": [
    {
     "name": "stdout",
     "output_type": "stream",
     "text": [
      "[ 14  28  36  70  86  90  95 104 125 138]\n"
     ]
    }
   ],
   "source": [
    "# 相关的clients，要为这些client创建profile\n",
    "import numpy as np\n",
    "input_dir = \"./input\"\n",
    "np1 = np.load(input_dir + \"/relevant_clients.npy\")\n",
    "sorted_np1 = np.sort(np1)\n",
    "print(sorted_np1[:10])"
   ]
  },
  {
   "cell_type": "code",
   "execution_count": 1,
   "id": "4126ef2d",
   "metadata": {},
   "outputs": [
    {
     "name": "stdout",
     "output_type": "stream",
     "text": [
      "(750860,)\n"
     ]
    }
   ],
   "source": [
    "# 用于做二分类\n",
    "import numpy as np\n",
    "input_dir = \"./target\"\n",
    "np2 = np.load(input_dir +  \"/active_clients.npy\")\n",
    "print(np2.shape)\n"
   ]
  },
  {
   "cell_type": "code",
   "execution_count": null,
   "id": "38ef7c4d",
   "metadata": {},
   "outputs": [
    {
     "name": "stdout",
     "output_type": "stream",
     "text": [
      "[42128 26241 19400 18054 13619 13237 12933 12873 11448  9562  9010  8650\n",
      "  7940  7695  7550  7378  7377  7363  7095  7010  7001  6816  6762  6679\n",
      "  6641  6393  6388  6326  6236  6225  6176  6080  6046  5773  5757  5695\n",
      "  5626  5536  5258  5159  5099  4984  4979  4955  4831  4679  4668  4602\n",
      "  4504  4441  4313  4286  4276  4224  4113  4063  3972  3954  3896  3892\n",
      "  3876  3768  3683  3667  3662  3636  3578  3565  3563  3558  3544  3515\n",
      "  3508  3476  3458  3426  3353  3345  3234  3230  3229  3208  3199  3118\n",
      "  3094  3062  3058  3048  3034  3016  3009  2965  2949  2924  2912  2889\n",
      "  2886  2880  2830  2819]\n"
     ]
    }
   ],
   "source": [
    "# 这部分是为了预测流行度的商品\n",
    "# The popularity of an item is its ranking based on the number\n",
    "# of times that item has been bought in the training data.\n",
    "import numpy as np\n",
    "input_dir = \"./target\"\n",
    "np3 = np.load(input_dir + \"/popularity_propensity_category.npy\")\n",
    "print(np3)"
   ]
  },
  {
   "cell_type": "code",
   "execution_count": 4,
   "id": "51144f43",
   "metadata": {},
   "outputs": [
    {
     "name": "stdout",
     "output_type": "stream",
     "text": [
      "[407 308 278 188 177 173 148 138 135 129 128 124 123 122 122 121 120 120\n",
      " 120 120 117 115 114 110 108 102 100  97  97  94  92  92  90  87  86  85\n",
      "  85  84  84  83  83  81  80  78  78  78  77  73  73  73  72  72  71  71\n",
      "  71  69  69  68  67  66  65  64  64  64  63  63  63  62  62  62  62  61\n",
      "  61  61  61  60  59  58  58  57  57  56  56  56  56  56  55  55  55  55\n",
      "  54  54  54  54  53  53  53  53  53  52]\n"
     ]
    }
   ],
   "source": [
    "# 每个商品受欢迎程度的分数\n",
    "import numpy as np\n",
    "input_dir = \"./target\"\n",
    "np4 = np.load(input_dir +  \"/popularity_propensity_sku.npy\")\n",
    "print(np4)"
   ]
  },
  {
   "cell_type": "code",
   "execution_count": null,
   "id": "9de7dfe6",
   "metadata": {},
   "outputs": [
    {
     "name": "stdout",
     "output_type": "stream",
     "text": [
      "[3068 5954 3147 3944 2739 5476 4142 6839 4981 6440 1586 5594 2235 3031\n",
      " 1681 6771 4195 1097 4715 5323 2910 1745 3263 3421 3061 5427 4062 2855\n",
      " 2977 5268 5152 1081 3709  874 4519 1543  605 1560  682 4631 4686 1399\n",
      " 2405 3953 2651  315 6857 2027 3296 5536 5641 3320 4383  827 5349 1386\n",
      " 1421 4517 6393 4564 5562 4987  593 3452 4628 2392 6899 2079 3698 4750\n",
      " 4041 4681 6508 1863 2036 5077 3827 2450 3787 3768 4298 4545  702 4848\n",
      " 3079 4462  155 6821  831 2008   93 6214  424 2329 6337 2527 6283 1677\n",
      " 1541 4032]\n"
     ]
    }
   ],
   "source": [
    "# 要推荐的类别\n",
    "import numpy as np\n",
    "input_dir = \"./target\"\n",
    "np5 = np.load(input_dir +  \"/propensity_category.npy\")\n",
    "print(np5)"
   ]
  },
  {
   "cell_type": "code",
   "execution_count": null,
   "id": "707eea13",
   "metadata": {},
   "outputs": [
    {
     "name": "stdout",
     "output_type": "stream",
     "text": [
      "[1068071  216320 1375377 1363458  894503  937289 1211547   63180 1388714\n",
      "  212974 1326077 1031415 1470734 1439500 1465177  604930 1292584  276277\n",
      "  593173  490159 1212502  551965 1471628 1016260  604561  268865  517203\n",
      "  573483  462220  568850 1366654  832052  792083 1188577 1354299  171326\n",
      "  858395 1219439  745147 1035067 1427914 1369057  589905  977263 1006704\n",
      "  725337  530712   26580  955630 1057932  530463  674809  744922  315183\n",
      "  486328  521098  648406 1218468 1286802  652232 1448862   56333 1347135\n",
      " 1296990  429454  215301  697164  513318  937363 1329094 1204414   70861\n",
      "  480990  425767 1396383 1456118 1163737 1011985 1182726 1462016  441793\n",
      " 1324740  374236 1466277 1199505 1446073 1103443  694004  480971  524278\n",
      "  623079   10748 1113305 1434568  639211  615613  327962  634860  730938\n",
      "  596667]\n"
     ]
    }
   ],
   "source": [
    "# item子集\n",
    "import numpy as np\n",
    "input_dir = \"./target\"\n",
    "np6 = np.load(input_dir +  \"/propensity_sku.npy\")\n",
    "print(np6)"
   ]
  },
  {
   "cell_type": "code",
   "execution_count": null,
   "id": "bd4fc317",
   "metadata": {},
   "outputs": [
    {
     "name": "stdout",
     "output_type": "stream",
     "text": [
      "    client_id           timestamp  \\\n",
      "0    17649961 2022-08-05 08:59:55   \n",
      "1    17649961 2022-08-05 09:00:59   \n",
      "2    17649961 2022-08-05 09:00:59   \n",
      "3    17649961 2022-08-05 09:30:20   \n",
      "4    17649961 2022-08-05 09:30:20   \n",
      "5    17649961 2022-08-07 20:43:35   \n",
      "6    17649961 2022-08-07 20:44:40   \n",
      "7    17649961 2022-08-07 20:44:40   \n",
      "8    17649961 2022-08-07 20:46:10   \n",
      "9    17649961 2022-08-07 20:46:10   \n",
      "10   17649961 2022-08-25 15:58:25   \n",
      "11   17649961 2022-08-25 16:00:20   \n",
      "12   17649961 2022-08-26 15:55:05   \n",
      "13   17649961 2022-08-26 15:56:15   \n",
      "14   17649961 2022-08-26 15:56:15   \n",
      "15   17649961 2022-09-08 11:49:10   \n",
      "16   17649961 2022-09-08 11:49:45   \n",
      "17   17649961 2022-09-08 11:50:30   \n",
      "18   23390068 2022-07-03 21:31:45   \n",
      "19   23390068 2022-07-03 21:42:10   \n",
      "\n",
      "                                                query  \n",
      "0   [ 21  21  13 168 158 204 145 215 145 168  13 1...  \n",
      "1   [ 21  21  13 168 158 204 145 215 145 168  13 1...  \n",
      "2   [ 21  21  13 168 158 204 145 215 145 168  13 1...  \n",
      "3   [ 21  21  13 168 158 204 145 215 145 168  13 1...  \n",
      "4   [ 21  21  13 168 158 204 145 215 145 168  13 1...  \n",
      "5   [ 21  21 118 168 158 204 145 215 145 168 161 1...  \n",
      "6   [ 21  21 118 168 158 204 145 215 145 168 161 1...  \n",
      "7   [ 21  21 118 168 158 204 145 215 145 168 161 1...  \n",
      "8   [ 21  21  13 168 158 204 145 215 145 168  13 1...  \n",
      "9   [ 21  21  13 168 158 204 145 215 145 168  13 1...  \n",
      "10  [ 21  21  13 168 158 204 145 215 145 168  13 1...  \n",
      "11  [ 62 236  37 195 171  62  65  55 103 207 228 1...  \n",
      "12  [121 106  51 168 107 204 145 215  51 168  15 2...  \n",
      "13  [121 106  51 168 107 204 145 215  51 168  15 2...  \n",
      "14  [121 106  51 168 107 204 145 215  51 168  15 2...  \n",
      "15  [ 15  49  36  75 170 223  76  36  36 240 143 1...  \n",
      "16  [231  49  36  75 170 223 106  36  36 240 143 1...  \n",
      "17  [231  49  36  75 170 223 106  36  36 240 143 1...  \n",
      "18  [117   4  94 174 181 125 179 174 168 128 193 2...  \n",
      "19  [250 138 188  31  45 199  49 126 242 120 138  ...  \n",
      "(7485720, 3)\n"
     ]
    }
   ],
   "source": [
    "# 购买数据集\n",
    "import pandas as pd\n",
    "\n",
    "# add_to_cart(取了范围)\n",
    "# page_visit(没有取)\n",
    "# product_buy（取了一个做测试集）\n",
    "# remove_from_cart(取了范围)\n",
    "# search_query(也变少了，留了最后14天做预测)\n",
    "\n",
    "file_name1 = \"search_query.parquet\"\n",
    "properties10 = pd.read_parquet(\"./input/\" + file_name1)\n",
    "\n",
    "print(properties10.head(20))\n",
    "print(properties10.shape)"
   ]
  },
  {
   "cell_type": "code",
   "execution_count": 1,
   "id": "070a0a4b",
   "metadata": {},
   "outputs": [
    {
     "ename": "KeyboardInterrupt",
     "evalue": "",
     "output_type": "error",
     "traceback": [
      "\u001b[31m---------------------------------------------------------------------------\u001b[39m",
      "\u001b[31mKeyboardInterrupt\u001b[39m                         Traceback (most recent call last)",
      "\u001b[36mCell\u001b[39m\u001b[36m \u001b[39m\u001b[32mIn[1]\u001b[39m\u001b[32m, line 2\u001b[39m\n\u001b[32m      1\u001b[39m \u001b[38;5;66;03m# 购买数据集\u001b[39;00m\n\u001b[32m----> \u001b[39m\u001b[32m2\u001b[39m \u001b[38;5;28;01mimport\u001b[39;00m\u001b[38;5;250m \u001b[39m\u001b[34;01mpandas\u001b[39;00m\u001b[38;5;250m \u001b[39m\u001b[38;5;28;01mas\u001b[39;00m\u001b[38;5;250m \u001b[39m\u001b[34;01mpd\u001b[39;00m\n\u001b[32m      5\u001b[39m file_name20 = \u001b[33m\"\u001b[39m\u001b[33mtrain_target.parquet\u001b[39m\u001b[33m\"\u001b[39m\n\u001b[32m      6\u001b[39m \u001b[38;5;66;03m# file_name20 = \"validation_target.parquet\"\u001b[39;00m\n",
      "\u001b[36mCell\u001b[39m\u001b[36m \u001b[39m\u001b[32mIn[1]\u001b[39m\u001b[32m, line 2\u001b[39m\n\u001b[32m      1\u001b[39m \u001b[38;5;66;03m# 购买数据集\u001b[39;00m\n\u001b[32m----> \u001b[39m\u001b[32m2\u001b[39m \u001b[38;5;28;01mimport\u001b[39;00m\u001b[38;5;250m \u001b[39m\u001b[34;01mpandas\u001b[39;00m\u001b[38;5;250m \u001b[39m\u001b[38;5;28;01mas\u001b[39;00m\u001b[38;5;250m \u001b[39m\u001b[34;01mpd\u001b[39;00m\n\u001b[32m      5\u001b[39m file_name20 = \u001b[33m\"\u001b[39m\u001b[33mtrain_target.parquet\u001b[39m\u001b[33m\"\u001b[39m\n\u001b[32m      6\u001b[39m \u001b[38;5;66;03m# file_name20 = \"validation_target.parquet\"\u001b[39;00m\n",
      "\u001b[36mFile \u001b[39m\u001b[32m_pydevd_bundle\\\\pydevd_cython.pyx:1697\u001b[39m, in \u001b[36m_pydevd_bundle.pydevd_cython.SafeCallWrapper.__call__\u001b[39m\u001b[34m()\u001b[39m\n",
      "\u001b[36mFile \u001b[39m\u001b[32m_pydevd_bundle\\\\pydevd_cython.pyx:634\u001b[39m, in \u001b[36m_pydevd_bundle.pydevd_cython.PyDBFrame.trace_dispatch\u001b[39m\u001b[34m()\u001b[39m\n",
      "\u001b[36mFile \u001b[39m\u001b[32m_pydevd_bundle\\\\pydevd_cython.pyx:1112\u001b[39m, in \u001b[36m_pydevd_bundle.pydevd_cython.PyDBFrame.trace_dispatch\u001b[39m\u001b[34m()\u001b[39m\n",
      "\u001b[36mFile \u001b[39m\u001b[32m_pydevd_bundle\\\\pydevd_cython.pyx:1090\u001b[39m, in \u001b[36m_pydevd_bundle.pydevd_cython.PyDBFrame.trace_dispatch\u001b[39m\u001b[34m()\u001b[39m\n",
      "\u001b[36mFile \u001b[39m\u001b[32m_pydevd_bundle\\\\pydevd_cython.pyx:494\u001b[39m, in \u001b[36m_pydevd_bundle.pydevd_cython.PyDBFrame.do_wait_suspend\u001b[39m\u001b[34m()\u001b[39m\n",
      "\u001b[36mFile \u001b[39m\u001b[32m/data_sdc/mhwang/miniconda3/envs/RecSys/lib/python3.11/site-packages/debugpy/_vendored/pydevd/pydevd.py:2188\u001b[39m, in \u001b[36mPyDB.do_wait_suspend\u001b[39m\u001b[34m(self, thread, frame, event, arg, exception_type)\u001b[39m\n\u001b[32m   2185\u001b[39m             from_this_thread.append(frame_custom_thread_id)\n\u001b[32m   2187\u001b[39m     \u001b[38;5;28;01mwith\u001b[39;00m \u001b[38;5;28mself\u001b[39m._threads_suspended_single_notification.notify_thread_suspended(thread_id, thread, stop_reason):\n\u001b[32m-> \u001b[39m\u001b[32m2188\u001b[39m         keep_suspended = \u001b[38;5;28;43mself\u001b[39;49m\u001b[43m.\u001b[49m\u001b[43m_do_wait_suspend\u001b[49m\u001b[43m(\u001b[49m\u001b[43mthread\u001b[49m\u001b[43m,\u001b[49m\u001b[43m \u001b[49m\u001b[43mframe\u001b[49m\u001b[43m,\u001b[49m\u001b[43m \u001b[49m\u001b[43mevent\u001b[49m\u001b[43m,\u001b[49m\u001b[43m \u001b[49m\u001b[43marg\u001b[49m\u001b[43m,\u001b[49m\u001b[43m \u001b[49m\u001b[43mtrace_suspend_type\u001b[49m\u001b[43m,\u001b[49m\u001b[43m \u001b[49m\u001b[43mfrom_this_thread\u001b[49m\u001b[43m,\u001b[49m\u001b[43m \u001b[49m\u001b[43mframes_tracker\u001b[49m\u001b[43m)\u001b[49m\n\u001b[32m   2190\u001b[39m frames_list = \u001b[38;5;28;01mNone\u001b[39;00m\n\u001b[32m   2192\u001b[39m \u001b[38;5;28;01mif\u001b[39;00m keep_suspended:\n\u001b[32m   2193\u001b[39m     \u001b[38;5;66;03m# This means that we should pause again after a set next statement.\u001b[39;00m\n",
      "\u001b[36mFile \u001b[39m\u001b[32m/data_sdc/mhwang/miniconda3/envs/RecSys/lib/python3.11/site-packages/debugpy/_vendored/pydevd/pydevd.py:2257\u001b[39m, in \u001b[36mPyDB._do_wait_suspend\u001b[39m\u001b[34m(self, thread, frame, event, arg, trace_suspend_type, from_this_thread, frames_tracker)\u001b[39m\n\u001b[32m   2254\u001b[39m                 queue.put(internal_cmd)\n\u001b[32m   2255\u001b[39m                 wait_timeout = TIMEOUT_FAST\n\u001b[32m-> \u001b[39m\u001b[32m2257\u001b[39m         \u001b[43mnotify_event\u001b[49m\u001b[43m.\u001b[49m\u001b[43mwait\u001b[49m\u001b[43m(\u001b[49m\u001b[43mwait_timeout\u001b[49m\u001b[43m)\u001b[49m\n\u001b[32m   2258\u001b[39m         notify_event.clear()\n\u001b[32m   2260\u001b[39m \u001b[38;5;28;01mfinally\u001b[39;00m:\n",
      "\u001b[36mFile \u001b[39m\u001b[32m/data_sdc/mhwang/miniconda3/envs/RecSys/lib/python3.11/threading.py:622\u001b[39m, in \u001b[36mEvent.wait\u001b[39m\u001b[34m(self, timeout)\u001b[39m\n\u001b[32m    620\u001b[39m signaled = \u001b[38;5;28mself\u001b[39m._flag\n\u001b[32m    621\u001b[39m \u001b[38;5;28;01mif\u001b[39;00m \u001b[38;5;129;01mnot\u001b[39;00m signaled:\n\u001b[32m--> \u001b[39m\u001b[32m622\u001b[39m     signaled = \u001b[38;5;28;43mself\u001b[39;49m\u001b[43m.\u001b[49m\u001b[43m_cond\u001b[49m\u001b[43m.\u001b[49m\u001b[43mwait\u001b[49m\u001b[43m(\u001b[49m\u001b[43mtimeout\u001b[49m\u001b[43m)\u001b[49m\n\u001b[32m    623\u001b[39m \u001b[38;5;28;01mreturn\u001b[39;00m signaled\n",
      "\u001b[36mFile \u001b[39m\u001b[32m/data_sdc/mhwang/miniconda3/envs/RecSys/lib/python3.11/threading.py:324\u001b[39m, in \u001b[36mCondition.wait\u001b[39m\u001b[34m(self, timeout)\u001b[39m\n\u001b[32m    322\u001b[39m \u001b[38;5;28;01melse\u001b[39;00m:\n\u001b[32m    323\u001b[39m     \u001b[38;5;28;01mif\u001b[39;00m timeout > \u001b[32m0\u001b[39m:\n\u001b[32m--> \u001b[39m\u001b[32m324\u001b[39m         gotit = \u001b[43mwaiter\u001b[49m\u001b[43m.\u001b[49m\u001b[43macquire\u001b[49m\u001b[43m(\u001b[49m\u001b[38;5;28;43;01mTrue\u001b[39;49;00m\u001b[43m,\u001b[49m\u001b[43m \u001b[49m\u001b[43mtimeout\u001b[49m\u001b[43m)\u001b[49m\n\u001b[32m    325\u001b[39m     \u001b[38;5;28;01melse\u001b[39;00m:\n\u001b[32m    326\u001b[39m         gotit = waiter.acquire(\u001b[38;5;28;01mFalse\u001b[39;00m)\n",
      "\u001b[31mKeyboardInterrupt\u001b[39m: "
     ]
    }
   ],
   "source": [
    "# 购买数据集\n",
    "import pandas as pd\n",
    "\n",
    "\n",
    "file_name20 = \"train_target.parquet\"\n",
    "# file_name20 = \"validation_target.parquet\"\n",
    "properties11 = pd.read_parquet(\"./target/\" + file_name20)\n",
    "\n",
    "print(properties11.head(10))\n",
    "# print(properties11)"
   ]
  }
 ],
 "metadata": {
  "kernelspec": {
   "display_name": "Python 3",
   "language": "python",
   "name": "python3"
  },
  "language_info": {
   "codemirror_mode": {
    "name": "ipython",
    "version": 3
   },
   "file_extension": ".py",
   "mimetype": "text/x-python",
   "name": "python",
   "nbconvert_exporter": "python",
   "pygments_lexer": "ipython3",
   "version": "3.11.0"
  }
 },
 "nbformat": 4,
 "nbformat_minor": 5
}
